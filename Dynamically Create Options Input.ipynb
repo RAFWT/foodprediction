{
 "cells": [
  {
   "cell_type": "code",
   "execution_count": 4,
   "metadata": {},
   "outputs": [],
   "source": [
    "import numpy as np\n",
    "import pandas as pd"
   ]
  },
  {
   "cell_type": "code",
   "execution_count": 5,
   "metadata": {},
   "outputs": [],
   "source": [
    "df = pd.read_csv('Predict_vegetable_2021_price.csv')\n"
   ]
  },
  {
   "cell_type": "code",
   "execution_count": 6,
   "metadata": {},
   "outputs": [
    {
     "data": {
      "text/html": [
       "<div>\n",
       "<style scoped>\n",
       "    .dataframe tbody tr th:only-of-type {\n",
       "        vertical-align: middle;\n",
       "    }\n",
       "\n",
       "    .dataframe tbody tr th {\n",
       "        vertical-align: top;\n",
       "    }\n",
       "\n",
       "    .dataframe thead th {\n",
       "        text-align: right;\n",
       "    }\n",
       "</style>\n",
       "<table border=\"1\" class=\"dataframe\">\n",
       "  <thead>\n",
       "    <tr style=\"text-align: right;\">\n",
       "      <th></th>\n",
       "      <th>Unnamed: 0</th>\n",
       "      <th>Item Name</th>\n",
       "      <th>price</th>\n",
       "    </tr>\n",
       "  </thead>\n",
       "  <tbody>\n",
       "    <tr>\n",
       "      <th>0</th>\n",
       "      <td>0</td>\n",
       "      <td>Amla</td>\n",
       "      <td>65.790238</td>\n",
       "    </tr>\n",
       "    <tr>\n",
       "      <th>1</th>\n",
       "      <td>1</td>\n",
       "      <td>Anjura/Fig</td>\n",
       "      <td>96.706262</td>\n",
       "    </tr>\n",
       "    <tr>\n",
       "      <th>2</th>\n",
       "      <td>2</td>\n",
       "      <td>Apple Australia</td>\n",
       "      <td>212.394249</td>\n",
       "    </tr>\n",
       "    <tr>\n",
       "      <th>3</th>\n",
       "      <td>3</td>\n",
       "      <td>Apple Chaina Delicious</td>\n",
       "      <td>182.845586</td>\n",
       "    </tr>\n",
       "    <tr>\n",
       "      <th>4</th>\n",
       "      <td>4</td>\n",
       "      <td>Apple Chilli</td>\n",
       "      <td>189.883613</td>\n",
       "    </tr>\n",
       "    <tr>\n",
       "      <th>...</th>\n",
       "      <td>...</td>\n",
       "      <td>...</td>\n",
       "      <td>...</td>\n",
       "    </tr>\n",
       "    <tr>\n",
       "      <th>297</th>\n",
       "      <td>297</td>\n",
       "      <td>Watermellon kiran</td>\n",
       "      <td>21.878722</td>\n",
       "    </tr>\n",
       "    <tr>\n",
       "      <th>298</th>\n",
       "      <td>298</td>\n",
       "      <td>Y.Bananan T.N.</td>\n",
       "      <td>199.269596</td>\n",
       "    </tr>\n",
       "    <tr>\n",
       "      <th>299</th>\n",
       "      <td>299</td>\n",
       "      <td>Yam/S.Root</td>\n",
       "      <td>44.313371</td>\n",
       "    </tr>\n",
       "    <tr>\n",
       "      <th>300</th>\n",
       "      <td>300</td>\n",
       "      <td>knol-khol</td>\n",
       "      <td>31.569587</td>\n",
       "    </tr>\n",
       "    <tr>\n",
       "      <th>301</th>\n",
       "      <td>301</td>\n",
       "      <td>mango Pickles</td>\n",
       "      <td>78.498540</td>\n",
       "    </tr>\n",
       "  </tbody>\n",
       "</table>\n",
       "<p>302 rows × 3 columns</p>\n",
       "</div>"
      ],
      "text/plain": [
       "     Unnamed: 0               Item Name       price\n",
       "0             0                    Amla   65.790238\n",
       "1             1              Anjura/Fig   96.706262\n",
       "2             2         Apple Australia  212.394249\n",
       "3             3  Apple Chaina Delicious  182.845586\n",
       "4             4            Apple Chilli  189.883613\n",
       "..          ...                     ...         ...\n",
       "297         297       Watermellon kiran   21.878722\n",
       "298         298          Y.Bananan T.N.  199.269596\n",
       "299         299              Yam/S.Root   44.313371\n",
       "300         300               knol-khol   31.569587\n",
       "301         301           mango Pickles   78.498540\n",
       "\n",
       "[302 rows x 3 columns]"
      ]
     },
     "execution_count": 6,
     "metadata": {},
     "output_type": "execute_result"
    }
   ],
   "source": [
    "df"
   ]
  },
  {
   "cell_type": "code",
   "execution_count": 7,
   "metadata": {},
   "outputs": [
    {
     "data": {
      "text/html": [
       "<div>\n",
       "<style scoped>\n",
       "    .dataframe tbody tr th:only-of-type {\n",
       "        vertical-align: middle;\n",
       "    }\n",
       "\n",
       "    .dataframe tbody tr th {\n",
       "        vertical-align: top;\n",
       "    }\n",
       "\n",
       "    .dataframe thead th {\n",
       "        text-align: right;\n",
       "    }\n",
       "</style>\n",
       "<table border=\"1\" class=\"dataframe\">\n",
       "  <thead>\n",
       "    <tr style=\"text-align: right;\">\n",
       "      <th></th>\n",
       "      <th>Unnamed: 0</th>\n",
       "      <th>Item Name</th>\n",
       "      <th>price</th>\n",
       "    </tr>\n",
       "  </thead>\n",
       "  <tbody>\n",
       "    <tr>\n",
       "      <th>0</th>\n",
       "      <td>0</td>\n",
       "      <td>Amla</td>\n",
       "      <td>65.790238</td>\n",
       "    </tr>\n",
       "    <tr>\n",
       "      <th>1</th>\n",
       "      <td>1</td>\n",
       "      <td>Anjura/Fig</td>\n",
       "      <td>96.706262</td>\n",
       "    </tr>\n",
       "    <tr>\n",
       "      <th>2</th>\n",
       "      <td>2</td>\n",
       "      <td>Apple Australia</td>\n",
       "      <td>212.394249</td>\n",
       "    </tr>\n",
       "    <tr>\n",
       "      <th>3</th>\n",
       "      <td>3</td>\n",
       "      <td>Apple Chaina Delicious</td>\n",
       "      <td>182.845586</td>\n",
       "    </tr>\n",
       "    <tr>\n",
       "      <th>4</th>\n",
       "      <td>4</td>\n",
       "      <td>Apple Chilli</td>\n",
       "      <td>189.883613</td>\n",
       "    </tr>\n",
       "  </tbody>\n",
       "</table>\n",
       "</div>"
      ],
      "text/plain": [
       "   Unnamed: 0               Item Name       price\n",
       "0           0                    Amla   65.790238\n",
       "1           1              Anjura/Fig   96.706262\n",
       "2           2         Apple Australia  212.394249\n",
       "3           3  Apple Chaina Delicious  182.845586\n",
       "4           4            Apple Chilli  189.883613"
      ]
     },
     "execution_count": 7,
     "metadata": {},
     "output_type": "execute_result"
    }
   ],
   "source": [
    "df.head()"
   ]
  },
  {
   "cell_type": "code",
   "execution_count": 8,
   "metadata": {},
   "outputs": [
    {
     "name": "stdout",
     "output_type": "stream",
     "text": [
      "Unique elements in column \"Item Name\" \n",
      "['Amla' 'Anjura/Fig' 'Apple Australia' 'Apple Chaina Delicious'\n",
      " 'Apple Chilli' 'Apple Delicious' 'Apple Economy' 'Apple Fuji chaina'\n",
      " 'Apple Golden delicious' 'Apple Green smith' 'Apple Newzeland'\n",
      " 'Apple Simla' 'Apple Washington' 'Apple hazarath palli' 'Apple juice'\n",
      " 'Arive greens' 'Avare seed (FB seeds)' 'Avarebele (F. Beans spok)'\n",
      " 'Avarekai (Field Beans )' 'Baby corn' 'Baby corn cleaned'\n",
      " 'Bale hoovu(B.flower)' 'BaleDindu (Banana stem)' 'Banana Nendra'\n",
      " 'Banana Rasabale' 'Banana Yellaki' 'Banana chandra'\n",
      " 'Banana cooking R.Banana' 'Banana pachabale' 'Basale Greens'\n",
      " 'Batani kalu' 'Beans' 'Beans Fruit' 'Beans Nati' 'Beans Ring'\n",
      " 'Beans cleaned' 'Beet Root' 'Berry Golden' 'Berry Green' 'Berry Soft'\n",
      " 'Berry Southafrica' 'Berry ball' 'Berry fruit Ooty' 'Bitter Gourd'\n",
      " 'Bore fruit' 'Bottle Gourd' 'Brahmi amla juice' 'Bread fruit'\n",
      " 'Brinjal (R)' 'Brinjal (W)' 'Brinjal Bottle' 'Brocoli' 'Butter fruit'\n",
      " 'Byladha Hannu' 'Cabbage' 'Cabbage Red' 'Cabbage chaina' 'Capsicum'\n",
      " 'Capsicum Red/Yellow' 'Carrot Delhi' 'Carrot Nati' 'Carrot ooty'\n",
      " 'Cauliflower per Kg' 'Cauliflower(B)' 'Cauliflower(M)' 'Chain Berry'\n",
      " 'Chakota greens' 'Cherry Tomoto' 'Cherry fruit' 'Cherry kashmir'\n",
      " 'Chicco(Sapota)' 'Chicco(Sapota) rapined' 'Chikadi kai'\n",
      " 'Chikkadikai Round' 'Chikkadikai cleaned' 'Chilakarive green'\n",
      " 'Chilles small cleaned (C.B.P)' 'Chillies Bajji' 'Chillies Bajji yagani'\n",
      " 'Chillies Cleaned' 'Chillies Green' 'Chillies small (C.B.P)'\n",
      " 'Chocolates Drink box' 'Chow-Chow' 'Cluster Bean Local'\n",
      " 'Cluster Beans Bunches' 'Coconut (B)' 'Coconut (M)' 'Coconut (OS)'\n",
      " 'Coconut (S)' 'Coconut oil 500 ml' 'Copra' 'Corriander Leave'\n",
      " 'Cowpea Long' 'Cucumber' 'Cucumber Israle' 'Cucumber Nati'\n",
      " 'Cucumber Ooty' 'Cucumber white' 'Curry leave' 'Custerd Apple'\n",
      " 'Dhantu greens' 'Double Beans' 'Double Beans seeds' 'Drumstik'\n",
      " 'Dry apricot' 'Dry dates' 'Dry fruit mixed' 'Eggs' 'Fanda'\n",
      " 'Fruit Juice Tailand' 'G. nut Golden oil 1 lt' 'G. nut oil Rice 1 lt'\n",
      " 'G. nut oil safal deep1 lt' 'G. nut sungold 1 lt' 'G.nut oil Premium1 lt'\n",
      " 'G.nut oil Rice Bron 1 lt' 'G.oil Net rich 500 ml' 'Garlic'\n",
      " 'Garlic cleaned' 'Ginger' 'Ginger New' 'Grapes Blore blue'\n",
      " 'Grapes Crimson' 'Grapes Dilkush' 'Grapes Dry 250gm' 'Grapes Flame'\n",
      " 'Grapes Krishna sharad' 'Grapes Red globe' 'Grapes Rose' 'Grapes Sharad'\n",
      " 'Grapes Sonika' 'Grapes T.S.' 'GrapesAnabi shahi' 'Grapesh Tash ganesh'\n",
      " 'Greens Sabbakki' 'Ground nut Local' 'Ground nut oil 1 lt'\n",
      " 'Ground nut oil 5 lt' 'Guava' 'Guava Allahabad(Red)' 'Gulkan 1 kg'\n",
      " 'Gulkan 1/2 kg' 'Gulkan 1/4 kg' 'Herali kai' 'Hesaru kalu' 'Honney 1 Kg'\n",
      " 'Honney 1/2' 'Honney 100 gm' 'Honney 200 gm' 'Indian Black globe Grapes'\n",
      " 'Indian red globe' 'Jack fruit' 'Jam 1 kg' 'Jam 1/2 kg' 'Jam 100 gm'\n",
      " 'Jam 200 gm' 'Jambo fruit(Nerale)' 'Jukani' 'Jumbu juice' 'Kakadi'\n",
      " 'Kashini (Ganike) Greens' 'Kiwi fruit' 'Komark fruit' 'Ladys finger'\n",
      " 'Leeks' 'Letteus Greens' 'Lime Local' 'Lime Pickles' 'Litchi Juice'\n",
      " 'Litchi Local' 'Litchi Taiwan/chaina' 'Little gourd' 'Maize'\n",
      " 'Mangalore cucumber' 'Mango' 'Mango Alphans' 'Mango Alphans box'\n",
      " 'Mango Amarpalli' 'Mango Badami' 'Mango Bygan palli' 'Mango Dasheri'\n",
      " 'Mango Kesar' 'Mango Langada' 'Mango Neelam' 'Mango Raspuri' 'Mango Raw'\n",
      " 'Mango Raw Amblet' 'Mango Sendura' 'Mango kalapadu' 'Mango malagova'\n",
      " 'Mango mallika' 'Mango rathnagiri(red)' 'Mango sakkaregutti'\n",
      " 'Mango thotapuri' 'Menthya Greens' 'Mineral water 1 lt' 'Mint Leaves'\n",
      " 'Molake kalu' 'Mosambi' 'Mosambi polo' 'Mushroom Button'\n",
      " 'Mushroom Oyster' 'N.Juice 200 ml' 'Nagapur Orange Economy'\n",
      " 'Net rich 5 lt oil' 'Onion Big' 'Onion flowers' 'Onion medium'\n",
      " 'Onion samber' 'Onion small(Economy)' 'Orange' 'Orange Australia'\n",
      " 'Orange Nagpura' 'Orange Ooty' 'Orange South Africa' 'Orange juice'\n",
      " 'Orange malt' 'Palak Greens' 'Papaya Red lady' 'Papaya Taiwan'\n",
      " 'Papaya nati' 'Papaya red indian' 'Papaya sola' 'Parsley' 'Parvala'\n",
      " 'Peaches' 'Peas Delhi' 'Peas Dharwad' 'Peas Ooty' 'Peas local'\n",
      " 'Peas seeds' 'Pepper' 'Pickles' 'Pickles mixed veg' 'Pineapple'\n",
      " 'Pineapple juice' 'Pista' 'Plum Australia' 'Plum Ooty'\n",
      " 'Pomegranate A.raktha' 'Pomegranate Bhagav' 'Pomegranate Ganesh'\n",
      " 'Pomegranate Juice' 'Pomello/Chakotha' 'Potato Baby' 'Potato(B)'\n",
      " 'Potato(M)' 'Pumpkin Ash' 'Pumpkin Japan' 'Pumpkin Red' 'Raddish'\n",
      " 'Raddish Red' 'Rice Bran 15 lt Tin' 'Rice Bran 5 lt' 'Rose apple'\n",
      " 'Rumenia Mango' 'S.mellon Local (Luck)' 'S.mellon namdhari'\n",
      " 'S.mellon namdhari (Red)' 'Safal deep 500 ml' 'Selari' 'Sham gadde'\n",
      " 'Snake Gourd' 'Snake Gourd(S)' 'South Af.red berry'\n",
      " 'South Africa Gala apple' 'Sponge Gourd' 'Spring Onion'\n",
      " 'Spring Onion(Cleaned)' 'Stevia powder' 'Straw Berry'\n",
      " 'Sun safal Tin 15 lt' 'Sungold oil 5 lt' 'Sungold oil 5 lt packet'\n",
      " 'Sweet Potato(Genasu)' 'Sweet corn' 'Sweet corn cleaned'\n",
      " 'Sweet corn seeds' 'Sweet corn seeds spok' 'Tamarind Paste 150 gm'\n",
      " 'Tamarind Paste 450 gm' 'Tamarind seedless' 'Tamarind sweet 500gm'\n",
      " 'Tamrind Chatisghar' 'Tender Coconut' 'Tender Coconut(M)'\n",
      " 'Tender Coconut(S)' 'Thailand Jelly' 'Thailand Juice' 'Thinda'\n",
      " 'Thogari kai' 'Times Rose berry' 'Tomoto' 'Washington gala apple'\n",
      " 'Washington red apple' 'Watermellon' 'Watermellon kiran' 'Y.Bananan T.N.'\n",
      " 'Yam/S.Root' 'knol-khol' 'mango Pickles']\n"
     ]
    }
   ],
   "source": [
    "uniqueValues = df['Item Name'].unique()\n",
    "print('Unique elements in column \"Item Name\" ')\n",
    "print(uniqueValues)"
   ]
  },
  {
   "cell_type": "code",
   "execution_count": 9,
   "metadata": {},
   "outputs": [
    {
     "name": "stdout",
     "output_type": "stream",
     "text": [
      "Number of unique values in column \"Item Name\" of the dataframe : \n",
      "302\n"
     ]
    }
   ],
   "source": [
    "uniqueValues = df['Item Name'].nunique()\n",
    "print('Number of unique values in column \"Item Name\" of the dataframe : ')\n",
    "print(uniqueValues)"
   ]
  },
  {
   "cell_type": "code",
   "execution_count": 10,
   "metadata": {},
   "outputs": [],
   "source": [
    "options = []\n",
    "item_name = df['Item Name']\n",
    "for item in item_name:\n",
    "    option = '<option value=\"'+str(item)+'\">'+str(item)+'</option>'\n",
    "    options.append(str(option))"
   ]
  },
  {
   "cell_type": "code",
   "execution_count": 11,
   "metadata": {},
   "outputs": [
    {
     "name": "stdout",
     "output_type": "stream",
     "text": [
      "<class 'pandas.core.frame.DataFrame'>\n",
      "RangeIndex: 302 entries, 0 to 301\n",
      "Data columns (total 3 columns):\n",
      " #   Column      Non-Null Count  Dtype  \n",
      "---  ------      --------------  -----  \n",
      " 0   Unnamed: 0  302 non-null    int64  \n",
      " 1   Item Name   302 non-null    object \n",
      " 2   price       302 non-null    float64\n",
      "dtypes: float64(1), int64(1), object(1)\n",
      "memory usage: 7.2+ KB\n"
     ]
    }
   ],
   "source": [
    "df.info()"
   ]
  },
  {
   "cell_type": "code",
   "execution_count": 12,
   "metadata": {},
   "outputs": [
    {
     "data": {
      "text/plain": [
       "['<option value=\"Amla\">Amla</option>',\n",
       " '<option value=\"Anjura/Fig\">Anjura/Fig</option>',\n",
       " '<option value=\"Apple Australia\">Apple Australia</option>',\n",
       " '<option value=\"Apple Chaina Delicious\">Apple Chaina Delicious</option>',\n",
       " '<option value=\"Apple Chilli\">Apple Chilli</option>',\n",
       " '<option value=\"Apple Delicious\">Apple Delicious</option>',\n",
       " '<option value=\"Apple Economy\">Apple Economy</option>',\n",
       " '<option value=\"Apple Fuji chaina\">Apple Fuji chaina</option>',\n",
       " '<option value=\"Apple Golden delicious\">Apple Golden delicious</option>',\n",
       " '<option value=\"Apple Green smith\">Apple Green smith</option>',\n",
       " '<option value=\"Apple Newzeland\">Apple Newzeland</option>',\n",
       " '<option value=\"Apple Simla\">Apple Simla</option>',\n",
       " '<option value=\"Apple Washington\">Apple Washington</option>',\n",
       " '<option value=\"Apple hazarath palli\">Apple hazarath palli</option>',\n",
       " '<option value=\"Apple juice\">Apple juice</option>',\n",
       " '<option value=\"Arive greens\">Arive greens</option>',\n",
       " '<option value=\"Avare seed (FB seeds)\">Avare seed (FB seeds)</option>',\n",
       " '<option value=\"Avarebele (F. Beans spok)\">Avarebele (F. Beans spok)</option>',\n",
       " '<option value=\"Avarekai (Field Beans )\">Avarekai (Field Beans )</option>',\n",
       " '<option value=\"Baby corn\">Baby corn</option>']"
      ]
     },
     "execution_count": 12,
     "metadata": {},
     "output_type": "execute_result"
    }
   ],
   "source": [
    "options[:20]"
   ]
  },
  {
   "cell_type": "code",
   "execution_count": 13,
   "metadata": {},
   "outputs": [],
   "source": [
    "with open('options.txt', 'w') as f:\n",
    "    for item in options:\n",
    "        f.write(\"%s\\n\" % item)"
   ]
  },
  {
   "cell_type": "code",
   "execution_count": 16,
   "metadata": {},
   "outputs": [],
   "source": [
    "val =df[df['Item Name'] == 'Baby corn']['price']"
   ]
  },
  {
   "cell_type": "code",
   "execution_count": null,
   "metadata": {},
   "outputs": [],
   "source": []
  }
 ],
 "metadata": {
  "kernelspec": {
   "display_name": "Python 3",
   "language": "python",
   "name": "python3"
  },
  "language_info": {
   "codemirror_mode": {
    "name": "ipython",
    "version": 3
   },
   "file_extension": ".py",
   "mimetype": "text/x-python",
   "name": "python",
   "nbconvert_exporter": "python",
   "pygments_lexer": "ipython3",
   "version": "3.8.5"
  }
 },
 "nbformat": 4,
 "nbformat_minor": 4
}
